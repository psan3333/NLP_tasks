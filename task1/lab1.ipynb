{
  "cells": [
    {
      "cell_type": "code",
      "execution_count": 1,
      "metadata": {
        "id": "ALn_QDMnGY7Y"
      },
      "outputs": [
        {
          "name": "stderr",
          "output_type": "stream",
          "text": [
            "/home/alezeypussydestroyer228/.local/lib/python3.10/site-packages/torch/cuda/__init__.py:546: UserWarning: Can't initialize NVML\n",
            "  warnings.warn(\"Can't initialize NVML\")\n",
            "/home/alezeypussydestroyer228/.local/lib/python3.10/site-packages/torch/cuda/__init__.py:651: UserWarning: CUDA initialization: Unexpected error from cudaGetDeviceCount(). Did you run some cuda functions before calling NumCudaDevices() that might have already set an error? Error 804: forward compatibility was attempted on non supported HW (Triggered internally at ../c10/cuda/CUDAFunctions.cpp:109.)\n",
            "  return torch._C._cuda_getDeviceCount() if nvml_count < 0 else nvml_count\n",
            "/home/alezeypussydestroyer228/.local/lib/python3.10/site-packages/tqdm/auto.py:22: TqdmWarning: IProgress not found. Please update jupyter and ipywidgets. See https://ipywidgets.readthedocs.io/en/stable/user_install.html\n",
            "  from .autonotebook import tqdm as notebook_tqdm\n"
          ]
        }
      ],
      "source": [
        "import spacy\n",
        "import pandas as pd\n",
        "from tqdm import tqdm\n",
        "from spacy.tokens import DocBin\n",
        "\n",
        "train_size = 50000\n",
        "valid_size = 20000\n",
        "nlp = spacy.load(\"en_core_web_sm\")"
      ]
    },
    {
      "cell_type": "code",
      "execution_count": 2,
      "metadata": {
        "id": "2lsjWG-g1o6c"
      },
      "outputs": [
        {
          "data": {
            "text/html": [
              "<div>\n",
              "<style scoped>\n",
              "    .dataframe tbody tr th:only-of-type {\n",
              "        vertical-align: middle;\n",
              "    }\n",
              "\n",
              "    .dataframe tbody tr th {\n",
              "        vertical-align: top;\n",
              "    }\n",
              "\n",
              "    .dataframe thead th {\n",
              "        text-align: right;\n",
              "    }\n",
              "</style>\n",
              "<table border=\"1\" class=\"dataframe\">\n",
              "  <thead>\n",
              "    <tr style=\"text-align: right;\">\n",
              "      <th></th>\n",
              "      <th>sentiment</th>\n",
              "      <th>text</th>\n",
              "    </tr>\n",
              "  </thead>\n",
              "  <tbody>\n",
              "    <tr>\n",
              "      <th>0</th>\n",
              "      <td>0</td>\n",
              "      <td>@switchfoot http://twitpic.com/2y1zl - Awww, t...</td>\n",
              "    </tr>\n",
              "    <tr>\n",
              "      <th>1</th>\n",
              "      <td>0</td>\n",
              "      <td>is upset that he can't update his Facebook by ...</td>\n",
              "    </tr>\n",
              "    <tr>\n",
              "      <th>2</th>\n",
              "      <td>0</td>\n",
              "      <td>@Kenichan I dived many times for the ball. Man...</td>\n",
              "    </tr>\n",
              "    <tr>\n",
              "      <th>3</th>\n",
              "      <td>0</td>\n",
              "      <td>my whole body feels itchy and like its on fire</td>\n",
              "    </tr>\n",
              "    <tr>\n",
              "      <th>4</th>\n",
              "      <td>0</td>\n",
              "      <td>@nationwideclass no, it's not behaving at all....</td>\n",
              "    </tr>\n",
              "  </tbody>\n",
              "</table>\n",
              "</div>"
            ],
            "text/plain": [
              "   sentiment                                               text\n",
              "0          0  @switchfoot http://twitpic.com/2y1zl - Awww, t...\n",
              "1          0  is upset that he can't update his Facebook by ...\n",
              "2          0  @Kenichan I dived many times for the ball. Man...\n",
              "3          0    my whole body feels itchy and like its on fire \n",
              "4          0  @nationwideclass no, it's not behaving at all...."
            ]
          },
          "execution_count": 2,
          "metadata": {},
          "output_type": "execute_result"
        }
      ],
      "source": [
        "# dataset: https://www.kaggle.com/datasets/kazanova/sentiment140\n",
        "df = pd.read_csv(\"archive/training.1600000.processed.noemoticon.csv\", encoding='latin-1')\n",
        "df = df.drop(['ids', 'date', 'flags', 'user'], axis=1)\n",
        "df.head()"
      ]
    },
    {
      "cell_type": "code",
      "execution_count": 3,
      "metadata": {},
      "outputs": [
        {
          "data": {
            "text/html": [
              "<div>\n",
              "<style scoped>\n",
              "    .dataframe tbody tr th:only-of-type {\n",
              "        vertical-align: middle;\n",
              "    }\n",
              "\n",
              "    .dataframe tbody tr th {\n",
              "        vertical-align: top;\n",
              "    }\n",
              "\n",
              "    .dataframe thead th {\n",
              "        text-align: right;\n",
              "    }\n",
              "</style>\n",
              "<table border=\"1\" class=\"dataframe\">\n",
              "  <thead>\n",
              "    <tr style=\"text-align: right;\">\n",
              "      <th></th>\n",
              "      <th>text</th>\n",
              "      <th>sentiment</th>\n",
              "    </tr>\n",
              "  </thead>\n",
              "  <tbody>\n",
              "    <tr>\n",
              "      <th>0</th>\n",
              "      <td>@switchfoot http://twitpic.com/2y1zl - Awww, t...</td>\n",
              "      <td>negative</td>\n",
              "    </tr>\n",
              "    <tr>\n",
              "      <th>1</th>\n",
              "      <td>is upset that he can't update his Facebook by ...</td>\n",
              "      <td>negative</td>\n",
              "    </tr>\n",
              "    <tr>\n",
              "      <th>2</th>\n",
              "      <td>@Kenichan I dived many times for the ball. Man...</td>\n",
              "      <td>negative</td>\n",
              "    </tr>\n",
              "    <tr>\n",
              "      <th>3</th>\n",
              "      <td>my whole body feels itchy and like its on fire</td>\n",
              "      <td>negative</td>\n",
              "    </tr>\n",
              "    <tr>\n",
              "      <th>4</th>\n",
              "      <td>@nationwideclass no, it's not behaving at all....</td>\n",
              "      <td>negative</td>\n",
              "    </tr>\n",
              "  </tbody>\n",
              "</table>\n",
              "</div>"
            ],
            "text/plain": [
              "                                                text sentiment\n",
              "0  @switchfoot http://twitpic.com/2y1zl - Awww, t...  negative\n",
              "1  is upset that he can't update his Facebook by ...  negative\n",
              "2  @Kenichan I dived many times for the ball. Man...  negative\n",
              "3    my whole body feels itchy and like its on fire   negative\n",
              "4  @nationwideclass no, it's not behaving at all....  negative"
            ]
          },
          "execution_count": 3,
          "metadata": {},
          "output_type": "execute_result"
        }
      ],
      "source": [
        "df = df[df['sentiment'] != 2]\n",
        "df['sentiment'] = df['sentiment'].map({0:'negative', 4:'positive'})\n",
        "df = df[['text', 'sentiment']]\n",
        "df.head()"
      ]
    },
    {
      "cell_type": "code",
      "execution_count": 4,
      "metadata": {
        "id": "KjM9p3jo1o6e"
      },
      "outputs": [],
      "source": [
        "df = df.sample(frac=0.5)"
      ]
    },
    {
      "cell_type": "code",
      "execution_count": 5,
      "metadata": {
        "colab": {
          "base_uri": "https://localhost:8080/"
        },
        "id": "7wyfpzYW1o6h",
        "outputId": "7df5f746-8ea2-4f5f-8040-8267643d0d36"
      },
      "outputs": [
        {
          "data": {
            "text/plain": [
              "negative    400650\n",
              "positive    399350\n",
              "Name: sentiment, dtype: int64"
            ]
          },
          "execution_count": 5,
          "metadata": {},
          "output_type": "execute_result"
        }
      ],
      "source": [
        "df['sentiment'].value_counts()"
      ]
    },
    {
      "cell_type": "code",
      "execution_count": 6,
      "metadata": {
        "id": "FQsRQ4eS1o6j"
      },
      "outputs": [],
      "source": [
        "data = [tuple(df.iloc[i].values) for i in range(train_size + valid_size)]"
      ]
    },
    {
      "cell_type": "code",
      "execution_count": 7,
      "metadata": {
        "colab": {
          "base_uri": "https://localhost:8080/"
        },
        "id": "M94-pVJhVAb7",
        "outputId": "6251e140-d333-4a59-bb33-c7d8a1137fac"
      },
      "outputs": [
        {
          "data": {
            "text/plain": [
              "negative    400650\n",
              "positive    399350\n",
              "Name: sentiment, dtype: int64"
            ]
          },
          "execution_count": 7,
          "metadata": {},
          "output_type": "execute_result"
        }
      ],
      "source": [
        "df['sentiment'].value_counts()"
      ]
    },
    {
      "cell_type": "code",
      "execution_count": 8,
      "metadata": {
        "id": "OiCg-Nr2Ga3Z"
      },
      "outputs": [],
      "source": [
        "def make_docs(data):\n",
        "    \"\"\"\n",
        "    this will take a list of texts and labels\n",
        "    and transform them in spacy documents\n",
        "    data: list(tuple(text, label))\n",
        "    returns: List(spacy.Doc.doc)\n",
        "    \"\"\"\n",
        "    docs = []\n",
        "    # nlp.pipe([texts]) is way faster than running\n",
        "    # nlp(text) for each text\n",
        "    # as_tuples allows us to pass in a tuple,\n",
        "    # the first one is treated as text\n",
        "    # the second one will get returned as it is.\n",
        "    # a = tqdm(nlp.pipe(data, as_tuples=True), total = len(data))\n",
        "    for doc, label in tqdm(nlp.pipe(data, as_tuples=True), total = len(data)):\n",
        "        if label == 'negative':\n",
        "            doc.cats[\"positive\"] = 0\n",
        "            doc.cats[\"negative\"] = 1\n",
        "        else:\n",
        "            doc.cats[\"positive\"] = 1\n",
        "            doc.cats[\"negative\"] = 0\n",
        "        # we need to set the (text)cat(egory) for each document\n",
        "        #doc.cats[\"positive\"] = label\n",
        "        # put them into a nice list\n",
        "        docs.append(doc)\n",
        "    return docs"
      ]
    },
    {
      "cell_type": "code",
      "execution_count": 9,
      "metadata": {
        "colab": {
          "base_uri": "https://localhost:8080/"
        },
        "id": "ogVuX_fKGdrb",
        "outputId": "c0236c3b-1c3c-43ba-94bc-ac40da2b4619"
      },
      "outputs": [
        {
          "name": "stderr",
          "output_type": "stream",
          "text": [
            "100%|██████████| 50000/50000 [01:20<00:00, 617.73it/s]\n"
          ]
        }
      ],
      "source": [
        "train_data = data[:train_size]\n",
        "valid_data = data[train_size:train_size + valid_size]\n",
        "\n",
        "# first we need to transform all the training data\n",
        "train_docs = make_docs(train_data)"
      ]
    },
    {
      "cell_type": "code",
      "execution_count": 10,
      "metadata": {
        "colab": {
          "base_uri": "https://localhost:8080/"
        },
        "id": "hL3c5jIJHijB",
        "outputId": "487bfd73-ee5a-4044-dd7b-8d3de741cc8c"
      },
      "outputs": [
        {
          "name": "stderr",
          "output_type": "stream",
          "text": [
            "100%|██████████| 20000/20000 [00:30<00:00, 658.81it/s]\n"
          ]
        }
      ],
      "source": [
        "\n",
        "# then we save it in a binary file to disc\n",
        "doc_bin = DocBin(docs=train_docs)\n",
        "doc_bin.to_disk(\"train.spacy\")\n",
        "# repeat for validation data\n",
        "valid_docs = make_docs(valid_data)\n",
        "doc_bin = DocBin(docs=valid_docs)\n",
        "doc_bin.to_disk(\"valid.spacy\")"
      ]
    },
    {
      "cell_type": "markdown",
      "metadata": {
        "id": "alCdl9QopLef"
      },
      "source": [
        "на этом месте мы идем в https://spacy.io/usage/training#quickstart, там настраиваем под себя конфиг (textcat), копируем его руками(!) в base_config.cfg, указываем правильные пути до трейн и вэлид\n"
      ]
    },
    {
      "cell_type": "code",
      "execution_count": 11,
      "metadata": {},
      "outputs": [
        {
          "name": "stdout",
          "output_type": "stream",
          "text": [
            "/home/alezeypussydestroyer228/.local/lib/python3.10/site-packages/torch/cuda/__init__.py:546: UserWarning: Can't initialize NVML\n",
            "  warnings.warn(\"Can't initialize NVML\")\n",
            "/home/alezeypussydestroyer228/.local/lib/python3.10/site-packages/torch/cuda/__init__.py:651: UserWarning: CUDA initialization: Unexpected error from cudaGetDeviceCount(). Did you run some cuda functions before calling NumCudaDevices() that might have already set an error? Error 804: forward compatibility was attempted on non supported HW (Triggered internally at ../c10/cuda/CUDAFunctions.cpp:109.)\n",
            "  return torch._C._cuda_getDeviceCount() if nvml_count < 0 else nvml_count\n",
            "\u001b[38;5;2m✔ Auto-filled config with all values\u001b[0m\n",
            "\u001b[38;5;2m✔ Saved config\u001b[0m\n",
            "config.cfg\n",
            "You can now add your data and train your pipeline:\n",
            "python -m spacy train config.cfg --paths.train ./train.spacy --paths.dev ./dev.spacy\n"
          ]
        }
      ],
      "source": [
        "!python3 -m spacy init fill-config ./base_config.cfg ./config.cfg\n"
      ]
    },
    {
      "cell_type": "code",
      "execution_count": 12,
      "metadata": {
        "colab": {
          "base_uri": "https://localhost:8080/"
        },
        "id": "NhI_K_zoHRst",
        "outputId": "de18350b-cfd0-4163-98fd-2eaa31822b4d"
      },
      "outputs": [
        {
          "name": "stdout",
          "output_type": "stream",
          "text": [
            "/home/alezeypussydestroyer228/.local/lib/python3.10/site-packages/torch/cuda/__init__.py:546: UserWarning: Can't initialize NVML\n",
            "  warnings.warn(\"Can't initialize NVML\")\n",
            "/home/alezeypussydestroyer228/.local/lib/python3.10/site-packages/torch/cuda/__init__.py:651: UserWarning: CUDA initialization: Unexpected error from cudaGetDeviceCount(). Did you run some cuda functions before calling NumCudaDevices() that might have already set an error? Error 804: forward compatibility was attempted on non supported HW (Triggered internally at ../c10/cuda/CUDAFunctions.cpp:109.)\n",
            "  return torch._C._cuda_getDeviceCount() if nvml_count < 0 else nvml_count\n",
            "\u001b[38;5;4mℹ Saving to output directory: output\u001b[0m\n",
            "\u001b[38;5;4mℹ Using CPU\u001b[0m\n",
            "\u001b[1m\n",
            "=========================== Initializing pipeline ===========================\u001b[0m\n",
            "\u001b[38;5;2m✔ Initialized pipeline\u001b[0m\n",
            "\u001b[1m\n",
            "============================= Training pipeline =============================\u001b[0m\n",
            "\u001b[38;5;4mℹ Pipeline: ['textcat']\u001b[0m\n",
            "\u001b[38;5;4mℹ Initial learn rate: 0.001\u001b[0m\n",
            "E    #       LOSS TEXTCAT  CATS_SCORE  SCORE \n",
            "---  ------  ------------  ----------  ------\n",
            "  0       0          0.25       51.68    0.52\n",
            "  0     200         46.01       65.83    0.66\n",
            "  0     400         42.59       69.84    0.70\n",
            "  0     600         40.88       70.38    0.70\n",
            "  0     800         39.20       72.47    0.72\n",
            "  0    1000         37.90       73.23    0.73\n",
            "  0    1200         36.65       74.25    0.74\n",
            "  0    1400         36.39       75.09    0.75\n",
            "  0    1600         35.57       75.57    0.76\n",
            "  0    1800         34.56       76.42    0.76\n",
            "  0    2000         33.63       76.58    0.77\n",
            "  0    2200         33.26       77.27    0.77\n",
            "  1    2400         27.69       77.23    0.77\n",
            "  1    2600         26.76       77.40    0.77\n",
            "  1    2800         26.93       77.23    0.77\n",
            "  1    3000         26.91       77.34    0.77\n",
            "  2    3200         23.76       77.32    0.77\n",
            "  2    3400         22.95       77.29    0.77\n",
            "  2    3600         23.63       77.18    0.77\n",
            "  2    3800         23.64       76.92    0.77\n",
            "  3    4000         21.53       77.16    0.77\n",
            "  3    4200         20.20       76.93    0.77\n",
            "\u001b[38;5;2m✔ Saved pipeline to output directory\u001b[0m\n",
            "output/model-last\n"
          ]
        }
      ],
      "source": [
        "!python3 -m spacy train config.cfg --output ./output"
      ]
    },
    {
      "cell_type": "code",
      "execution_count": 14,
      "metadata": {
        "colab": {
          "base_uri": "https://localhost:8080/"
        },
        "id": "j1tnFjeaILJu",
        "outputId": "1e7245b5-a03a-43dd-a105-1f88ba2c90dd"
      },
      "outputs": [
        {
          "name": "stdout",
          "output_type": "stream",
          "text": [
            "type : ‘quit’ to exit\n",
            "get out of here you little pice of crap\n",
            "{'positive': 0.3781455159187317, 'negative': 0.6218544840812683}\n",
            "the sentiment is negative\n",
            "\n",
            "happy birthday Samantha\n",
            "{'positive': 0.791291356086731, 'negative': 0.20870865881443024}\n",
            "the sentiment is positive\n",
            "\n",
            "He looks great today\n",
            "{'positive': 0.775345504283905, 'negative': 0.22465446591377258}\n",
            "the sentiment is positive\n",
            "\n",
            "Scientists did fantastic job making him better at cooking\n",
            "{'positive': 0.8339892029762268, 'negative': 0.1660108119249344}\n",
            "the sentiment is positive\n",
            "\n",
            "How about you keep your mouth shut?\n",
            "{'positive': 0.6757451891899109, 'negative': 0.3242548108100891}\n",
            "the sentiment is positive\n",
            "\n",
            "Touch grass discord mod\n",
            "{'positive': 0.5015324950218201, 'negative': 0.4984675347805023}\n",
            "the sentiment is positive\n",
            "\n",
            "Crap - how terrible to see him smiling over his friend's death\n",
            "{'positive': 0.32396501302719116, 'negative': 0.6760349869728088}\n",
            "the sentiment is negative\n",
            "\n",
            "quit\n",
            "{'positive': 0.5347508788108826, 'negative': 0.46524909138679504}\n",
            "the sentiment is positive\n",
            "\n"
          ]
        }
      ],
      "source": [
        "import spacy\n",
        "# load thebest model from training\n",
        "nlp = spacy.load(\"output/model-best\")\n",
        "text = \"\"\n",
        "print(\"type : ‘quit’ to exit\")\n",
        "# predict the sentiment until someone writes quit\n",
        "while text != \"quit\":\n",
        "    text = input(\"Please enter example input: \")\n",
        "    doc = nlp(text)\n",
        "    print(text)\n",
        "    print(doc.cats)\n",
        "    if doc.cats['positive'] >.5:\n",
        "        print(f\"the sentiment is positive\")\n",
        "    else:\n",
        "        print(f\"the sentiment is negative\")\n",
        "    print()"
      ]
    }
  ],
  "metadata": {
    "colab": {
      "provenance": []
    },
    "kernelspec": {
      "display_name": "Python 3",
      "language": "python",
      "name": "python3"
    },
    "language_info": {
      "codemirror_mode": {
        "name": "ipython",
        "version": 3
      },
      "file_extension": ".py",
      "mimetype": "text/x-python",
      "name": "python",
      "nbconvert_exporter": "python",
      "pygments_lexer": "ipython3",
      "version": "3.10.12"
    }
  },
  "nbformat": 4,
  "nbformat_minor": 0
}
