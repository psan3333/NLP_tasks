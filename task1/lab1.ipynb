{
  "cells": [
    {
      "cell_type": "code",
      "execution_count": 1,
      "metadata": {
        "id": "ALn_QDMnGY7Y"
      },
      "outputs": [],
      "source": [
        "import spacy\n",
        "import pandas as pd\n",
        "from tqdm import tqdm\n",
        "from spacy.tokens import DocBin\n",
        "\n",
        "train_size = 100000\n",
        "valid_size = 20000\n",
        "nlp = spacy.load(\"en_core_web_sm\")"
      ]
    },
    {
      "cell_type": "code",
      "execution_count": 2,
      "metadata": {
        "id": "2lsjWG-g1o6c"
      },
      "outputs": [
        {
          "data": {
            "text/html": [
              "<div>\n",
              "<style scoped>\n",
              "    .dataframe tbody tr th:only-of-type {\n",
              "        vertical-align: middle;\n",
              "    }\n",
              "\n",
              "    .dataframe tbody tr th {\n",
              "        vertical-align: top;\n",
              "    }\n",
              "\n",
              "    .dataframe thead th {\n",
              "        text-align: right;\n",
              "    }\n",
              "</style>\n",
              "<table border=\"1\" class=\"dataframe\">\n",
              "  <thead>\n",
              "    <tr style=\"text-align: right;\">\n",
              "      <th></th>\n",
              "      <th>sentiment</th>\n",
              "      <th>text</th>\n",
              "    </tr>\n",
              "  </thead>\n",
              "  <tbody>\n",
              "    <tr>\n",
              "      <th>0</th>\n",
              "      <td>0</td>\n",
              "      <td>is upset that he can't update his Facebook by ...</td>\n",
              "    </tr>\n",
              "    <tr>\n",
              "      <th>1</th>\n",
              "      <td>0</td>\n",
              "      <td>@Kenichan I dived many times for the ball. Man...</td>\n",
              "    </tr>\n",
              "    <tr>\n",
              "      <th>2</th>\n",
              "      <td>0</td>\n",
              "      <td>my whole body feels itchy and like its on fire</td>\n",
              "    </tr>\n",
              "    <tr>\n",
              "      <th>3</th>\n",
              "      <td>0</td>\n",
              "      <td>@nationwideclass no, it's not behaving at all....</td>\n",
              "    </tr>\n",
              "    <tr>\n",
              "      <th>4</th>\n",
              "      <td>0</td>\n",
              "      <td>@Kwesidei not the whole crew</td>\n",
              "    </tr>\n",
              "  </tbody>\n",
              "</table>\n",
              "</div>"
            ],
            "text/plain": [
              "   sentiment                                               text\n",
              "0          0  is upset that he can't update his Facebook by ...\n",
              "1          0  @Kenichan I dived many times for the ball. Man...\n",
              "2          0    my whole body feels itchy and like its on fire \n",
              "3          0  @nationwideclass no, it's not behaving at all....\n",
              "4          0                      @Kwesidei not the whole crew "
            ]
          },
          "execution_count": 2,
          "metadata": {},
          "output_type": "execute_result"
        }
      ],
      "source": [
        "# dataset: https://www.kaggle.com/datasets/kazanova/sentiment140\n",
        "df = pd.read_csv(\n",
        "    \"training.1600000.processed.noemoticon.csv\", \n",
        "    encoding='latin-1'\n",
        ")\n",
        "df.columns = ['sentiment', 'ids', 'date', 'flags', 'user', 'text']\n",
        "df = df.drop(['ids', 'date', 'flags', 'user'], axis=1)\n",
        "df.head()"
      ]
    },
    {
      "cell_type": "code",
      "execution_count": 3,
      "metadata": {},
      "outputs": [
        {
          "data": {
            "text/html": [
              "<div>\n",
              "<style scoped>\n",
              "    .dataframe tbody tr th:only-of-type {\n",
              "        vertical-align: middle;\n",
              "    }\n",
              "\n",
              "    .dataframe tbody tr th {\n",
              "        vertical-align: top;\n",
              "    }\n",
              "\n",
              "    .dataframe thead th {\n",
              "        text-align: right;\n",
              "    }\n",
              "</style>\n",
              "<table border=\"1\" class=\"dataframe\">\n",
              "  <thead>\n",
              "    <tr style=\"text-align: right;\">\n",
              "      <th></th>\n",
              "      <th>text</th>\n",
              "      <th>sentiment</th>\n",
              "    </tr>\n",
              "  </thead>\n",
              "  <tbody>\n",
              "    <tr>\n",
              "      <th>0</th>\n",
              "      <td>is upset that he can't update his Facebook by ...</td>\n",
              "      <td>negative</td>\n",
              "    </tr>\n",
              "    <tr>\n",
              "      <th>1</th>\n",
              "      <td>@Kenichan I dived many times for the ball. Man...</td>\n",
              "      <td>negative</td>\n",
              "    </tr>\n",
              "    <tr>\n",
              "      <th>2</th>\n",
              "      <td>my whole body feels itchy and like its on fire</td>\n",
              "      <td>negative</td>\n",
              "    </tr>\n",
              "    <tr>\n",
              "      <th>3</th>\n",
              "      <td>@nationwideclass no, it's not behaving at all....</td>\n",
              "      <td>negative</td>\n",
              "    </tr>\n",
              "    <tr>\n",
              "      <th>4</th>\n",
              "      <td>@Kwesidei not the whole crew</td>\n",
              "      <td>negative</td>\n",
              "    </tr>\n",
              "  </tbody>\n",
              "</table>\n",
              "</div>"
            ],
            "text/plain": [
              "                                                text sentiment\n",
              "0  is upset that he can't update his Facebook by ...  negative\n",
              "1  @Kenichan I dived many times for the ball. Man...  negative\n",
              "2    my whole body feels itchy and like its on fire   negative\n",
              "3  @nationwideclass no, it's not behaving at all....  negative\n",
              "4                      @Kwesidei not the whole crew   negative"
            ]
          },
          "execution_count": 3,
          "metadata": {},
          "output_type": "execute_result"
        }
      ],
      "source": [
        "df = df[df['sentiment'] != 2]\n",
        "df['sentiment'] = df['sentiment'].map({0:'negative', 4:'positive'})\n",
        "df = df[['text', 'sentiment']]\n",
        "df.head()"
      ]
    },
    {
      "cell_type": "code",
      "execution_count": 4,
      "metadata": {
        "id": "KjM9p3jo1o6e"
      },
      "outputs": [],
      "source": [
        "df = df.sample(frac=0.5)"
      ]
    },
    {
      "cell_type": "code",
      "execution_count": 5,
      "metadata": {
        "colab": {
          "base_uri": "https://localhost:8080/"
        },
        "id": "7wyfpzYW1o6h",
        "outputId": "7df5f746-8ea2-4f5f-8040-8267643d0d36"
      },
      "outputs": [
        {
          "data": {
            "text/plain": [
              "sentiment\n",
              "positive    400131\n",
              "negative    399869\n",
              "Name: count, dtype: int64"
            ]
          },
          "execution_count": 5,
          "metadata": {},
          "output_type": "execute_result"
        }
      ],
      "source": [
        "df['sentiment'].value_counts()"
      ]
    },
    {
      "cell_type": "code",
      "execution_count": 6,
      "metadata": {
        "id": "FQsRQ4eS1o6j"
      },
      "outputs": [],
      "source": [
        "data = [tuple(df.iloc[i].values) for i in range(train_size + valid_size)]"
      ]
    },
    {
      "cell_type": "code",
      "execution_count": 7,
      "metadata": {
        "colab": {
          "base_uri": "https://localhost:8080/"
        },
        "id": "M94-pVJhVAb7",
        "outputId": "6251e140-d333-4a59-bb33-c7d8a1137fac"
      },
      "outputs": [
        {
          "data": {
            "text/plain": [
              "sentiment\n",
              "positive    400131\n",
              "negative    399869\n",
              "Name: count, dtype: int64"
            ]
          },
          "execution_count": 7,
          "metadata": {},
          "output_type": "execute_result"
        }
      ],
      "source": [
        "df['sentiment'].value_counts()"
      ]
    },
    {
      "cell_type": "code",
      "execution_count": 8,
      "metadata": {
        "id": "OiCg-Nr2Ga3Z"
      },
      "outputs": [],
      "source": [
        "def make_docs(data):\n",
        "    \"\"\"\n",
        "    this will take a list of texts and labels\n",
        "    and transform them in spacy documents\n",
        "    data: list(tuple(text, label))\n",
        "    returns: List(spacy.Doc.doc)\n",
        "    \"\"\"\n",
        "    docs = []\n",
        "    # nlp.pipe([texts]) is way faster than running\n",
        "    # nlp(text) for each text\n",
        "    # as_tuples allows us to pass in a tuple,\n",
        "    # the first one is treated as text\n",
        "    # the second one will get returned as it is.\n",
        "    # a = tqdm(nlp.pipe(data, as_tuples=True), total = len(data))\n",
        "    for doc, label in tqdm(nlp.pipe(data, as_tuples=True), total = len(data)):\n",
        "        if label == 'negative':\n",
        "            doc.cats[\"positive\"] = 0\n",
        "            doc.cats[\"negative\"] = 1\n",
        "        else:\n",
        "            doc.cats[\"positive\"] = 1\n",
        "            doc.cats[\"negative\"] = 0\n",
        "        # we need to set the (text)cat(egory) for each document\n",
        "        #doc.cats[\"positive\"] = label\n",
        "        # put them into a nice list\n",
        "        docs.append(doc)\n",
        "    return docs"
      ]
    },
    {
      "cell_type": "code",
      "execution_count": 9,
      "metadata": {
        "colab": {
          "base_uri": "https://localhost:8080/"
        },
        "id": "ogVuX_fKGdrb",
        "outputId": "c0236c3b-1c3c-43ba-94bc-ac40da2b4619"
      },
      "outputs": [
        {
          "name": "stderr",
          "output_type": "stream",
          "text": [
            "  0%|          | 0/100000 [00:00<?, ?it/s]"
          ]
        },
        {
          "name": "stderr",
          "output_type": "stream",
          "text": [
            "100%|██████████| 100000/100000 [05:59<00:00, 278.23it/s]\n"
          ]
        }
      ],
      "source": [
        "train_data = data[:train_size]\n",
        "valid_data = data[train_size:train_size + valid_size]\n",
        "\n",
        "# first we need to transform all the training data\n",
        "train_docs = make_docs(train_data)"
      ]
    },
    {
      "cell_type": "code",
      "execution_count": 10,
      "metadata": {
        "colab": {
          "base_uri": "https://localhost:8080/"
        },
        "id": "hL3c5jIJHijB",
        "outputId": "487bfd73-ee5a-4044-dd7b-8d3de741cc8c"
      },
      "outputs": [
        {
          "name": "stderr",
          "output_type": "stream",
          "text": [
            "100%|██████████| 20000/20000 [00:37<00:00, 530.18it/s]\n"
          ]
        }
      ],
      "source": [
        "\n",
        "# then we save it in a binary file to disc\n",
        "doc_bin = DocBin(docs=train_docs)\n",
        "doc_bin.to_disk(\"train.spacy\")\n",
        "# repeat for validation data\n",
        "valid_docs = make_docs(valid_data)\n",
        "doc_bin = DocBin(docs=valid_docs)\n",
        "doc_bin.to_disk(\"valid.spacy\")"
      ]
    },
    {
      "cell_type": "markdown",
      "metadata": {
        "id": "alCdl9QopLef"
      },
      "source": [
        "на этом месте мы идем в https://spacy.io/usage/training#quickstart, там настраиваем под себя конфиг (textcat), копируем его руками(!) в base_config.cfg, указываем правильные пути до трейн и вэлид\n"
      ]
    },
    {
      "cell_type": "code",
      "execution_count": 11,
      "metadata": {},
      "outputs": [
        {
          "name": "stdout",
          "output_type": "stream",
          "text": [
            "\u001b[38;5;2m✔ Auto-filled config with all values\u001b[0m\n",
            "\u001b[38;5;2m✔ Saved config\u001b[0m\n",
            "config.cfg\n",
            "You can now add your data and train your pipeline:\n",
            "python -m spacy train config.cfg --paths.train ./train.spacy --paths.dev ./dev.spacy\n"
          ]
        }
      ],
      "source": [
        "!python -m spacy init fill-config ./base_config.cfg ./config.cfg\n"
      ]
    },
    {
      "cell_type": "code",
      "execution_count": 12,
      "metadata": {
        "colab": {
          "base_uri": "https://localhost:8080/"
        },
        "id": "NhI_K_zoHRst",
        "outputId": "de18350b-cfd0-4163-98fd-2eaa31822b4d"
      },
      "outputs": [
        {
          "name": "stdout",
          "output_type": "stream",
          "text": [
            "\u001b[38;5;4mℹ Saving to output directory: output\u001b[0m\n",
            "\u001b[38;5;4mℹ Using CPU\u001b[0m\n",
            "\u001b[1m\n",
            "=========================== Initializing pipeline ===========================\u001b[0m\n",
            "\u001b[38;5;2m✔ Initialized pipeline\u001b[0m\n",
            "\u001b[1m\n",
            "============================= Training pipeline =============================\u001b[0m\n",
            "\u001b[38;5;4mℹ Pipeline: ['textcat']\u001b[0m\n",
            "\u001b[38;5;4mℹ Initial learn rate: 0.001\u001b[0m\n",
            "E    #       LOSS TEXTCAT  CATS_SCORE  SCORE \n",
            "---  ------  ------------  ----------  ------\n",
            "  0       0          0.25       41.29    0.41\n",
            "  0     200         47.12       66.97    0.67\n",
            "  0     400         43.19       69.66    0.70\n",
            "  0     600         41.84       71.14    0.71\n",
            "  0     800         38.49       72.86    0.73\n",
            "  0    1000         38.58       73.74    0.74\n",
            "  0    1200         37.17       74.89    0.75\n",
            "  0    1400         36.13       75.50    0.76\n",
            "  0    1600         34.62       76.10    0.76\n",
            "  0    1800         34.51       76.36    0.76\n",
            "  0    2000         34.37       76.49    0.76\n",
            "  0    2200         33.44       77.18    0.77\n",
            "  0    2400         32.96       77.46    0.77\n",
            "  0    2600         31.98       77.66    0.78\n",
            "  0    2800         32.36       77.65    0.78\n",
            "  0    3000         31.61       77.88    0.78\n",
            "  1    3200         27.49       77.93    0.78\n",
            "  1    3400         26.58       78.05    0.78\n",
            "  1    3600         26.46       78.11    0.78\n",
            "  1    3800         26.77       78.13    0.78\n",
            "  1    4000         26.63       77.95    0.78\n",
            "  1    4200         27.19       78.09    0.78\n",
            "  1    4400         26.74       78.07    0.78\n",
            "  1    4600         26.77       77.98    0.78\n",
            "  2    4800         24.68       78.08    0.78\n",
            "  2    5000         23.18       78.20    0.78\n",
            "  2    5200         23.78       78.00    0.78\n",
            "  2    5400         23.91       77.96    0.78\n",
            "  2    5600         23.55       77.95    0.78\n",
            "  2    5800         24.40       77.92    0.78\n",
            "  2    6000         23.81       78.00    0.78\n",
            "  2    6200         23.62       77.84    0.78\n",
            "  3    6400         23.08       77.96    0.78\n",
            "  3    6600         21.05       77.81    0.78\n",
            "\u001b[38;5;2m✔ Saved pipeline to output directory\u001b[0m\n",
            "output\\model-last\n"
          ]
        }
      ],
      "source": [
        "!python -m spacy train config.cfg --output ./output"
      ]
    },
    {
      "cell_type": "code",
      "execution_count": 13,
      "metadata": {
        "colab": {
          "base_uri": "https://localhost:8080/"
        },
        "id": "j1tnFjeaILJu",
        "outputId": "1e7245b5-a03a-43dd-a105-1f88ba2c90dd"
      },
      "outputs": [
        {
          "name": "stdout",
          "output_type": "stream",
          "text": [
            "type : ‘quit’ to exit\n",
            "fuck you little runt\n",
            "{'positive': 0.5936747193336487, 'negative': 0.4063253104686737}\n",
            "the sentiment is positive\n",
            "\n",
            "fuck\n",
            "{'positive': 0.4792467951774597, 'negative': 0.5207532048225403}\n",
            "the sentiment is negative\n",
            "\n",
            "good afternoon\n",
            "{'positive': 0.7237020134925842, 'negative': 0.27629798650741577}\n",
            "the sentiment is positive\n",
            "\n",
            "hello, gral to see you\n",
            "{'positive': 0.8635736703872681, 'negative': 0.13642629981040955}\n",
            "the sentiment is positive\n",
            "\n",
            "hi, my name is Alexey\n",
            "{'positive': 0.8005737662315369, 'negative': 0.19942623376846313}\n",
            "the sentiment is positive\n",
            "\n",
            "what a terrible condition you have\n",
            "{'positive': 0.2905135154724121, 'negative': 0.7094864845275879}\n",
            "the sentiment is negative\n",
            "\n",
            "how are you doing, my friend\n",
            "{'positive': 0.6532986164093018, 'negative': 0.34670135378837585}\n",
            "the sentiment is positive\n",
            "\n",
            "you dick\n",
            "{'positive': 0.6553702354431152, 'negative': 0.34462976455688477}\n",
            "the sentiment is positive\n",
            "\n",
            "d\n",
            "{'positive': 0.5631621479988098, 'negative': 0.4368378520011902}\n",
            "the sentiment is positive\n",
            "\n"
          ]
        }
      ],
      "source": [
        "import spacy\n",
        "# load thebest model from training\n",
        "nlp = spacy.load(\"output/model-best\")\n",
        "text = \"\"\n",
        "print(\"type : ‘quit’ to exit\")\n",
        "# predict the sentiment until someone writes quit\n",
        "while text != \"quit\":\n",
        "    text = input(\"Please enter example input: \")\n",
        "    doc = nlp(text)\n",
        "    print(text)\n",
        "    print(doc.cats)\n",
        "    if doc.cats['positive'] >.5:\n",
        "        print(f\"the sentiment is positive\")\n",
        "    else:\n",
        "        print(f\"the sentiment is negative\")\n",
        "    print()"
      ]
    }
  ],
  "metadata": {
    "colab": {
      "provenance": []
    },
    "kernelspec": {
      "display_name": "Python 3",
      "language": "python",
      "name": "python3"
    },
    "language_info": {
      "codemirror_mode": {
        "name": "ipython",
        "version": 3
      },
      "file_extension": ".py",
      "mimetype": "text/x-python",
      "name": "python",
      "nbconvert_exporter": "python",
      "pygments_lexer": "ipython3",
      "version": "3.9.12"
    }
  },
  "nbformat": 4,
  "nbformat_minor": 0
}
